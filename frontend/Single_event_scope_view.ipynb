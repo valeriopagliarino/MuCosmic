{
 "cells": [
  {
   "cell_type": "markdown",
   "metadata": {},
   "source": [
    "# Oscilloscope level trigger"
   ]
  },
  {
   "attachments": {},
   "cell_type": "markdown",
   "metadata": {},
   "source": [
    "### StemLab 10 bit board (DAQ) configuration:\n",
    "- Both input channels are configured with the jumper in LV position (high sensitivity, $\\pm$ 1 V)\n",
    "- Visit Red Pitaya IP (dashboard) > Development > Python Programming\n",
    "\n",
    "----------------------------------\n",
    "\n",
    "Simple notebook for acquisition of a single event, this can be used for parameter fine tuning. The parameters can then be import into the Continuous_acquisition notebook\n",
    "\n",
    "----------------------------------\n",
    "\n"
   ]
  },
  {
   "cell_type": "code",
   "execution_count": null,
   "metadata": {},
   "outputs": [],
   "source": [
    "import scipy as sp\n",
    "import numpy as np\n",
    "import matplotlib.pyplot as plt\n",
    "import time\n",
    "import pickle"
   ]
  },
  {
   "cell_type": "markdown",
   "metadata": {},
   "source": [
    "### Initial configuration"
   ]
  },
  {
   "cell_type": "code",
   "execution_count": null,
   "metadata": {},
   "outputs": [],
   "source": [
    "# Import the FPGA firmware Overlay\n",
    "from redpitaya.overlay.mercury import mercury as overlay\n",
    "fpga = overlay()\n",
    "\n",
    "# Import LEDs\n",
    "LED = FPGA.led\n",
    "aq_started = LED(1, 0)\n",
    "trig_armed = LED(2, 0)\n",
    "event      = LED(3, 0)\n",
    "\n",
    "# Import GPIOs for external event counter / slow trigger\n",
    "GPIO = FPGA.gpio\n",
    "gpio_o = GPIO('p', 0, \"out\")\n",
    "\n",
    "# Define the FPGA oscilloscope objects\n",
    "osc = [fpga.osc(ch, 1.0) for ch in range(2)]\n",
    "\n",
    "# Set data rate decimation\n",
    "for ch in osc:\n",
    "    # data rate decimation = 1, keep 125 MHz sampling frequency\n",
    "    ch.decimation = 1\n",
    "\n",
    "    # trigger timing [sample periods]\n",
    "    N = ch.buffer_size\n",
    "    ch.trigger_pre  = 0\n",
    "    ch.trigger_post = N\n",
    "    \n",
    "    # osc[0] is controlling both channels\n",
    "    ch.sync_src = fpga.sync_src[\"osc0\"]\n",
    "\n",
    "# Setup trigger on scintillator signals\n",
    "osc[0].level = [0.23, 0.2]\n",
    "osc[0].edge  = 'pos'\n",
    "osc[1].level = [0.23, 0.2]\n",
    "osc[1].edge  = 'pos'\n",
    "\n",
    "for ch in osc:\n",
    "    ch.trig_src = fpga.trig_src[\"osc1\"]"
   ]
  },
  {
   "attachments": {},
   "cell_type": "markdown",
   "metadata": {},
   "source": [
    "### Single event acquisition"
   ]
  },
  {
   "cell_type": "code",
   "execution_count": null,
   "metadata": {},
   "outputs": [],
   "source": [
    "aq_started.write(1)\n",
    "\n",
    "# reset and start\n",
    "osc[0].reset()\n",
    "osc[0].start()\n",
    "# wait for trigger\n",
    "trig_armed.write(1)\n",
    "# Reset the slow GPIO output for external event counting\n",
    "gpio_o.write(False)\n",
    "while (osc[0].status_run()): pass\n",
    "# \"fast\" (code execution time) pulse on the slow GPIO output for slow trigger and external event counting with scaler\n",
    "gpio_o.write(True)\n",
    "trig_armed.write(0)\n",
    "timestamp = time.time()\n",
    "print('Recorded event', \" timestamp = \" ,str(timestamp))\n",
    "data0 = osc[0].data(N)\n",
    "data1 = osc[1].data(N)\n",
    "time.sleep(0.5)\n",
    "gpio_o.write(False)\n",
    "\n",
    "#Single event visualization\n",
    "buf_len0 = len(data0)\n",
    "buf_len1 = len(data1)\n",
    "buf_time0 = np.linspace(0, float(buf_len0) * (1./0.125), buf_len0)\n",
    "buf_time1 = np.linspace(1, float(buf_len1) * (1./0.125), buf_len1)\n",
    "\n",
    "fig, ax = plt.subplots()\n",
    "ax.plot(buf_time0, data0, color = 'red',  label = 'Scint_0')\n",
    "ax.plot(buf_time1, data1, color = 'blue', label = 'Scint_1')\n",
    "ax.grid()\n",
    "ax.set_xlabel(\"Time (ns)\")\n",
    "ax.set_ylabel(\"Signal Amplitude mV\")\n",
    "ax.title(\"Event signal shape\")"
   ]
  }
 ],
 "metadata": {
  "kernelspec": {
   "display_name": "Python 3 (ipykernel)",
   "language": "python",
   "name": "python3"
  },
  "language_info": {
   "codemirror_mode": {
    "name": "ipython",
    "version": 3
   },
   "file_extension": ".py",
   "mimetype": "text/x-python",
   "name": "python",
   "nbconvert_exporter": "python",
   "pygments_lexer": "ipython3",
   "version": "3.10.6"
  }
 },
 "nbformat": 4,
 "nbformat_minor": 2
}
