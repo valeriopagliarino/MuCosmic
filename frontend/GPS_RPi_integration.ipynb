{
 "cells": [
  {
   "attachments": {},
   "cell_type": "markdown",
   "metadata": {},
   "source": [
    "# GPS RPi Integration"
   ]
  },
  {
   "attachments": {},
   "cell_type": "markdown",
   "metadata": {},
   "source": [
    "This Python code to be executed on the RedPitaya CPU is to retrieve from the JSON API running on the Raspberry Pi zero the GPS timestamp, location and APD ADC value. The events are syncronized among detectors using the hit_timestamp value."
   ]
  },
  {
   "cell_type": "code",
   "execution_count": null,
   "metadata": {},
   "outputs": [],
   "source": [
    "import os\n",
    "import json\n",
    "import requests\n",
    "\n",
    "def retrieve_json_packet(hit_timestamp):\n",
    "    url = 'http://192.168.2.3/json_api' \n",
    "    params = {'hit_timestamp': hit_timestamp}\n",
    "    response = requests.get(url, params=params)\n",
    "    if response.status_code == 200:\n",
    "        json_packet = response.json()\n",
    "        if {'gps_timestamp', 'gps_pos', 'APD_ADC', 'date_time', 'hit_id'}.issubset(json_packet.keys()):\n",
    "            return json_packet\n",
    "        else:\n",
    "            raise ValueError(\"JSON packet is missing one or more required fields\")\n",
    "    else:\n",
    "        raise requests.exceptions.HTTPError(f\"HTTP error {response.status_code}\")\n",
    "\n",
    "def save_json_to_file(json_data, folder_path, filename):\n",
    "    if not os.path.exists(folder_path):\n",
    "        os.makedirs(folder_path)\n",
    "    file_path = os.path.join(folder_path, filename)\n",
    "    with open(file_path, 'w') as f:\n",
    "        json.dump(json_data, f)\n",
    "\n",
    "\n",
    "def retrieveEventFromRPIzero(hit_timestamp):\n",
    "    json_packet = retrieve_json_packet(hit_timestamp)\n",
    "    save_json_to_file(json_packet, 'rpi_zero_data', f'{hit_timestamp}.json')\n"
   ]
  }
 ],
 "metadata": {
  "kernelspec": {
   "display_name": "Python 3 (ipykernel)",
   "language": "python",
   "name": "python3"
  },
  "language_info": {
   "codemirror_mode": {
    "name": "ipython",
    "version": 3
   },
   "file_extension": ".py",
   "mimetype": "text/x-python",
   "name": "python",
   "nbconvert_exporter": "python",
   "pygments_lexer": "ipython3",
   "version": "3.10.6"
  }
 },
 "nbformat": 4,
 "nbformat_minor": 2
}
