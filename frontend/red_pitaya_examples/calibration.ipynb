{
 "cells": [
  {
   "cell_type": "markdown",
   "metadata": {},
   "source": [
    "# Calibration"
   ]
  },
  {
   "cell_type": "code",
   "execution_count": null,
   "metadata": {},
   "outputs": [],
   "source": [
    "from redpitaya.overlay.mercury import mercury as FPGA\n",
    "overlay = FPGA()"
   ]
  },
  {
   "cell_type": "code",
   "execution_count": null,
   "metadata": {},
   "outputs": [],
   "source": [
    "clb = FPGA.clb()"
   ]
  },
  {
   "cell_type": "markdown",
   "metadata": {},
   "source": [
    "Read current ADC/DAC calibration register values."
   ]
  },
  {
   "cell_type": "code",
   "execution_count": null,
   "metadata": {},
   "outputs": [],
   "source": [
    "channels = [0, 1]\n",
    "for ch in channels:\n",
    "    print (\"ADC[{}] gain = {}, offset = {}\".format(ch, clb.adc[ch].gain, clb.adc[ch].offset))\n",
    "for ch in channels:\n",
    "    print (\"DAC[{}] gain = {}, offset = {}\".format(ch, clb.dac[ch].gain, clb.dac[ch].offset))"
   ]
  },
  {
   "cell_type": "markdown",
   "metadata": {},
   "source": [
    "Read **user** calibration values stored in the EEPROM."
   ]
  },
  {
   "cell_type": "code",
   "execution_count": null,
   "metadata": {},
   "outputs": [],
   "source": [
    "eeprom_user = clb.eeprom_read()\n",
    "calib_user = clb.eeprom_parse(eeprom_user)\n",
    "clb.calib_show(calib_user)"
   ]
  },
  {
   "cell_type": "markdown",
   "metadata": {},
   "source": [
    "Read **factory** calibration values stored in the EEPROM."
   ]
  },
  {
   "cell_type": "code",
   "execution_count": null,
   "metadata": {},
   "outputs": [],
   "source": [
    "eeprom_factory = clb.eeprom_read(clb._eeprom_offset_factory)\n",
    "calib_factory = clb.eeprom_parse(eeprom_factory)\n",
    "clb.calib_show(calib_factory)"
   ]
  },
  {
   "cell_type": "code",
   "execution_count": null,
   "metadata": {
    "collapsed": true
   },
   "outputs": [],
   "source": [
    "clb.calib_apply (calib_factory, adc_range = ['lo', 'lo'])"
   ]
  }
 ],
 "metadata": {
  "kernelspec": {
   "display_name": "Python 3",
   "language": "python",
   "name": "python3"
  },
  "language_info": {
   "codemirror_mode": {
    "name": "ipython",
    "version": 3
   },
   "file_extension": ".py",
   "mimetype": "text/x-python",
   "name": "python",
   "nbconvert_exporter": "python",
   "pygments_lexer": "ipython3",
   "version": "3.5.2"
  }
 },
 "nbformat": 4,
 "nbformat_minor": 2
}
