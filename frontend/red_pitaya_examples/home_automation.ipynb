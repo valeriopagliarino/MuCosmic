{
 "cells": [
  {
   "cell_type": "markdown",
   "metadata": {},
   "source": [
    "# Home heating system / temperature regulator\n",
    "In this experiment we will present basic heating on/off system regulator with a hysteresis.\n",
    "Even very modern thermostats like NEST are still primarly based on old ON/OFF regulaton method. \n",
    "![nest](img/nest.jpeg)"
   ]
  },
  {
   "cell_type": "markdown",
   "metadata": {},
   "source": [
    "## Basic principle\n",
    "User sets a desired temperature that is compared to measured temperature. If the measured temperature is < set temperature, we turn heater on, but if measured tempreature > set temperature we turn it off.\n",
    "![on_off_control](img/on_off_control.png)"
   ]
  },
  {
   "cell_type": "markdown",
   "metadata": {},
   "source": [
    "## Setup\n",
    "- Red Pitaya STEMlab board + sensor shield\n",
    "- Grove temperature sensor & LED diode for heater states indicator (optional relay that drives heater)\n",
    "![temp_reg_setup](img/temp_reg_setup.jpg)"
   ]
  },
  {
   "cell_type": "markdown",
   "metadata": {},
   "source": [
    "## Temperature sensor\n",
    "The Grove - Temperature Sensor uses a Thermistor to detect the ambient temperature. The resistance of a thermistor will increase when the ambient temperature decreases. It's this characteristic that we use to calculate the ambient temperature. The detectable range of this sensor is -40 - 125ºC, and the accuracy is ±1.5ºC\n",
    "Datasheet: [NCP18WF104F03RC](http://wiki.seeed.cc/Grove-Temperature_Sensor_V1.2/) \n",
    "![temp_sensor](img/temp_sensor.jpg)\n",
    "![temp_sensor_sch](img/temp_sensor_sch.png)"
   ]
  },
  {
   "cell_type": "code",
   "execution_count": null,
   "metadata": {},
   "outputs": [],
   "source": [
    "# Temperature vs. NTC resistance \n",
    "import math\n",
    "import matplotlib.pyplot as plt\n",
    "import time\n",
    "from redpitaya.overlay.mercury import mercury as FPGA\n",
    "overlay = FPGA()\n",
    "ANALOG = FPGA.analog_in(0) # define which pin will be used for temperature sensor\n",
    "\n",
    "def res_to_temp(Rntc):\n",
    "    B = 4275; # B value of the thermistor\n",
    "    return (1.0/(math.log10(Rntc/100000.0)/B+1/298.15)-273.15) #convert to temperature via datasheet \n",
    "temp = [ res_to_temp(R) for R in range(10000,300000,100)]\n",
    "plt.plot(range(10000,300000,100), temp)\n",
    "plt.xlabel('Rntc[ohm]')\n",
    "plt.ylabel('Temperature[*C]')\n",
    "plt.show()"
   ]
  },
  {
   "cell_type": "markdown",
   "metadata": {},
   "source": [
    "## Reading temperature sensor\n",
    "\n",
    "To read the temperature we need to read the voltage value and convert it to temperature."
   ]
  },
  {
   "cell_type": "code",
   "execution_count": null,
   "metadata": {},
   "outputs": [],
   "source": [
    "def temp():\n",
    "    Va0=ANALOG.read() # read voltage of sensor\n",
    "    R0 = 100000;       # R0 = 100k\n",
    "    Rntc = 3.3/(Va0)-1.0 \n",
    "    Rntc = 100000.0*Rntc # thermistor resistance\n",
    "    return (res_to_temp(Rntc),Va0);\n",
    "r=temp()\n",
    "\n",
    "print(\"voltage={:.2f}V temp {:.2f}℃\".format(r[1],r[0]) )"
   ]
  },
  {
   "cell_type": "markdown",
   "metadata": {},
   "source": [
    "## Simple controll of LED\n",
    "\n",
    "LEDs are controlled with GPIOs."
   ]
  },
  {
   "cell_type": "code",
   "execution_count": null,
   "metadata": {
    "collapsed": true
   },
   "outputs": [],
   "source": [
    "GPIO = FPGA.gpio\n",
    "import time"
   ]
  },
  {
   "cell_type": "code",
   "execution_count": null,
   "metadata": {},
   "outputs": [],
   "source": [
    "gpio_o = GPIO('p', 0, \"out\")\n",
    "gpio_o.write(True)\n",
    "time.sleep(1)\n",
    "gpio_o.write(False)"
   ]
  },
  {
   "cell_type": "markdown",
   "metadata": {},
   "source": [
    "# Simple Home Heating"
   ]
  },
  {
   "cell_type": "code",
   "execution_count": null,
   "metadata": {
    "scrolled": true
   },
   "outputs": [],
   "source": [
    "import time\n",
    "\n",
    "from bokeh.io import push_notebook, show, output_notebook\n",
    "from bokeh.models import HoverTool, Range1d\n",
    "from bokeh.plotting import figure\n",
    "from bokeh.resources import INLINE \n",
    "output_notebook(resources=INLINE)"
   ]
  },
  {
   "cell_type": "code",
   "execution_count": null,
   "metadata": {
    "scrolled": false
   },
   "outputs": [],
   "source": [
    "colors = ('red', 'blue', 'green', 'orange')\n",
    "legends = ('temperature', 'setTemp+hysteresis','setTemp-hysteresis', 'heater State')\n",
    "hover = HoverTool(mode = 'vline', tooltips=[(\"T\", \"@y\")])\n",
    "tools = \"pan,wheel_zoom,box_zoom,reset,crosshair\"\n",
    "p = figure(plot_height=400, plot_width=900, title=\"Home heating system\", toolbar_location=\"above\", tools=(tools, hover))\n",
    "p.xaxis.axis_label='time [s]'\n",
    "p.y_range=Range1d(20, 35)\n",
    "p.yaxis.axis_label='temperature [℃]'\n",
    "\n",
    "# get and explicit handle to update the next show cell with\n",
    "# a simple ON/OFF regulator with hysteresis\n",
    "target = show(p, notebook_handle=True)"
   ]
  },
  {
   "cell_type": "code",
   "execution_count": null,
   "metadata": {},
   "outputs": [],
   "source": [
    "# a simple ON/OFF regulator with hysteresis\n",
    "HYSTERESIS=0.5\n",
    "setTemp=28\n",
    "heaterState=0\n",
    "chn=4\n",
    "\n",
    "T = 1 # sampling period\n",
    "HYST_HI=setTemp+HYSTERESIS\n",
    "HYST_LO=setTemp-HYSTERESIS\n",
    "\n",
    "x=[0]\n",
    "y=[ [temp()[0]], [HYST_HI], [HYST_LO], [heaterState] ]\n",
    "r = [p.line(x, y[ch], line_width=1, line_alpha=0.7, color=colors[ch],legend=legends[ch]) for ch in range(chn)]\n",
    "\n",
    "# take 30 samples while simultaneously plotting the plot\n",
    "for i in range(30):\n",
    "    x.append(0) if i == 0 else x.append(x[-1]+T)\n",
    "    temperature=temp()[0]\n",
    "    \n",
    "    # Hysteresis\n",
    "    if (temperature < HYST_LO): #turn heating ON (LED)\n",
    "        gpio_o.write(True)\n",
    "        heaterState=1\n",
    "    elif (temperature > HYST_HI): #turn heating OFF (LED)\n",
    "        heaterState=0\n",
    "        gpio_o.write(False)        \n",
    "    \n",
    "    r[0].data_source.data['y'].append(temperature) # store temperature\n",
    "    r[1].data_source.data['y'].append(HYST_HI) # store set temperature + hysteresis\n",
    "    r[2].data_source.data['y'].append(HYST_LO) # store set temperature - hysteresis\n",
    "    r[3].data_source.data['y'].append(heaterState*22) # store heater state\n",
    "      \n",
    "    # push updates to the plot continuously using the handle (intererrupt the notebook kernel to stop)\n",
    "    push_notebook(handle=target)\n",
    "    time.sleep(T)"
   ]
  }
 ],
 "metadata": {
  "kernelspec": {
   "display_name": "Python 3",
   "language": "python",
   "name": "python3"
  },
  "language_info": {
   "codemirror_mode": {
    "name": "ipython",
    "version": 3
   },
   "file_extension": ".py",
   "mimetype": "text/x-python",
   "name": "python",
   "nbconvert_exporter": "python",
   "pygments_lexer": "ipython3",
   "version": "3.5.2"
  }
 },
 "nbformat": 4,
 "nbformat_minor": 2
}
