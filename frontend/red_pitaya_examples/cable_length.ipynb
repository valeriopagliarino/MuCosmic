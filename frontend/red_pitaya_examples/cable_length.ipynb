{
 "cells": [
  {
   "cell_type": "markdown",
   "metadata": {},
   "source": [
    "# Cable length measurement using Time Domain Reflectometry (TDR)\n",
    "\n",
    "## Description\n",
    "In this experiment, we will measure cable length by measuring time that signal needs to propagate down\n",
    "the cable and back to the source. This principle is used in time-domain reflectometry, to find and locate\n",
    "faults or damages on long (underground) cables. To understand why the signal would come back, and\n",
    "what amount of time is needed for that, look at theoretical background of transmission lines.\n",
    "Transmission line is mathematical description of a cable which takes into account its physical parameters(diameter,materials...) and describes how the cable will behave in our circuits.\n",
    "\n",
    "![wiring diagram](img/cable_length.jpg)\n",
    "\n",
    "## Reflection theory (short)\n",
    "A signal travelling along transmission line will be partly or wholly reflected back in the opposite\n",
    "direction when the signal encounters a discontinuity in the characteristic impedance of the line, or if the\n",
    "far end of the line is not terminated in its characteristic impedance. Because of losses in line, reflected\n",
    "pulse has smaller amplitude as incident one. The incident wave travelling down the line has not any\n",
    "foreknowledge of what is at the end of the line and is only affected by the characteristic impedance Z0.\n",
    "However when the pulse arrive at the open circuit at which point the current in the line is zero\n",
    "(because no current flows through open circuit). The charge arrived through incident current has\n",
    "nowhere to go, so by the Kirchhoff's current law there must be equal and opposite current into the end\n",
    "of the line. When there is short circuit at the end of line, the voltage must be zero since there can be no\n",
    "volts across a short circuit. Again, all of the energy must be reflected back up the line and the reflected\n",
    "voltage must be equal and opposite to the incident voltage by Kirchhoff's voltage law: reflected and\n",
    "incident voltage and current are opposite direction and equal in absolute value.\n",
    "\n",
    "## Measuring setup\n",
    "We can measure time between emitted and reflected signal. In that time, signal travels twice the cable\n",
    "distance, since it travels to the end of it and back. With Red Pitaya STEMlab's sample rate(125MS/s) we can estimate cable’s length with resolution of 80 cm, additionally with x10 interpolation we can increase measuring resolution to 8 cm. Our measuring setup consists of Red Pitaya STEMlab board, a couple of T-connectors\n",
    "and short(bridge) cable to connect generator output and oscilloscope input. Input has 50Ω terminator so signal\n",
    "doesn’t reflect at the end of the bridge cable.\n",
    "\n",
    "## Measuring method\n",
    "Reflection is detected by locating global maximum and minimum of the incident and reflected wave. But, due to speed of the propagation of reflected wave we will not be able to distinguish reflected wave from incident one for cables shorter than ~7m. In other words, for cables shorter than 7m, signal pulse acquired on IN1 is a sum of incident and  reflected wave. To get incident and reflected wave separated we use a clever trick. When no cable is attached to the OUT1 we will generate excitation pulse. This pulse will be acquired on IN1 and saved as constant alignment signal = incident wave. Now, when we connect some cable for length measurement  in order to get reflected wave we just subtract that constant alignment signal from received signal on IN1. \n",
    "\n",
    "\n",
    "## Connection and procedure\n",
    "- using bridge cable, 2x T-connector and 50 ohm termination connect in1-out1(picture above)\n",
    "- run the code by clicking on play button (all cells)\n",
    "- measurement is started (scope plot is running)\n",
    "- connect cable for length measurement - change cable length and observe measurement"
   ]
  },
  {
   "cell_type": "code",
   "execution_count": null,
   "metadata": {
    "collapsed": true
   },
   "outputs": [],
   "source": [
    "import time\n",
    "import numpy as np\n",
    "from scipy import constants\n",
    "\n",
    "import operator\n",
    "from scipy.interpolate import interp1d\n",
    "\n",
    "from bokeh.io import push_notebook, show, output_notebook\n",
    "from bokeh.models import HoverTool, Range1d\n",
    "from bokeh.plotting import figure, output_file, show\n",
    "from bokeh.models import LabelSet, Label\n",
    "from bokeh.resources import INLINE \n",
    "output_notebook(resources=INLINE)\n",
    "\n",
    "import ipywidgets as widgets\n",
    "\n",
    "from redpitaya.overlay.mercury import mercury as overlay\n",
    "fpga = overlay()\n",
    "\n",
    "# create generator instance\n",
    "gen0 = fpga.gen(0)\n",
    "# create oscilloscope instance\n",
    "osc0 = fpga.osc(0, 1.0)"
   ]
  },
  {
   "cell_type": "markdown",
   "metadata": {},
   "source": [
    "## Global variables"
   ]
  },
  {
   "cell_type": "code",
   "execution_count": null,
   "metadata": {
    "collapsed": true
   },
   "outputs": [],
   "source": [
    "buffer_size = 100\n",
    "dt_stop=(buffer_size)/osc0.FS\n",
    "dt_step = 1/osc0.FS/10\n",
    "dt = np.arange(0,dt_stop, dt_step)\n",
    "vf = 0.66"
   ]
  },
  {
   "cell_type": "markdown",
   "metadata": {},
   "source": [
    "## Generator configuration"
   ]
  },
  {
   "cell_type": "code",
   "execution_count": null,
   "metadata": {
    "collapsed": true
   },
   "outputs": [],
   "source": [
    "# arbitrary signal waveform generation (one sample pulse)\n",
    "waveform = [1, 0]\n",
    "gen0.waveform = waveform\n",
    "\n",
    "gen0.mode                   = 'BURST'\n",
    "gen0.burst_data_repetitions = 1\n",
    "gen0.burst_data_length      = len(waveform)\n",
    "gen0.burst_period_length    = len(waveform)\n",
    "gen0.burst_period_number    = 1\n",
    "\n",
    "# set output amplitude, offset and enable it\n",
    "gen0.amplitude     = 1.0\n",
    "gen0.offset        = 0\n",
    "gen0.enable        = True"
   ]
  },
  {
   "cell_type": "markdown",
   "metadata": {},
   "source": [
    "## Oscilloscope configuration"
   ]
  },
  {
   "cell_type": "code",
   "execution_count": null,
   "metadata": {
    "collapsed": true
   },
   "outputs": [],
   "source": [
    "# data rate decimation \n",
    "osc0.decimation = 1\n",
    "\n",
    "# trigger timing\n",
    "osc0.trigger_pre  = 0\n",
    "osc0.trigger_post = buffer_size\n",
    "\n",
    "# synchronization signals from \n",
    "osc0.sync_src = fpga.sync_src['gen0']\n",
    "osc0.trig_src = 0"
   ]
  },
  {
   "cell_type": "code",
   "execution_count": null,
   "metadata": {
    "collapsed": true,
    "scrolled": false
   },
   "outputs": [],
   "source": [
    "# interpolate signals to gain resolution\n",
    "x     = np.linspace(1, buffer_size, buffer_size)  \n",
    "x_new = np.linspace(1, buffer_size, buffer_size*10)\n",
    "\n",
    "def get_signal_response (buffer_size):    \n",
    "    # reset, start and trigger generator to get the first burst\n",
    "    gen0.reset()\n",
    "    gen0.start()\n",
    "    gen0.trigger()\n",
    "    while (osc0.status_run()): pass\n",
    "    return osc0.data(buffer_size)\n",
    "    \n",
    "def find_peaks (signal1,signal2):\n",
    "    peak1_index, peak1_value = max(enumerate(abs(signal1)), key=operator.itemgetter(1))\n",
    "    peak2_index, peak2_value = max(enumerate(abs(signal2)), key=operator.itemgetter(1))\n",
    "    return peak1_index, peak1_value, peak2_index, peak2_value\n",
    "\n",
    "def calc_cable_length (vf, dt):\n",
    "    peaks = find_peaks (cable_signal,alignment_signal)\n",
    "    delta_sample= peaks[0]-peaks[2]\n",
    "    length = round(dt * delta_sample * constants.c * vf / 2.0, 6) \n",
    "    return length\n",
    "\n",
    "# get alignment signal - NO CABLE ATTACHED \n",
    "alignment_signal = get_signal_response (buffer_size)\n",
    "alignment_signal = interp1d(x, alignment_signal, kind='cubic')(x_new)\n",
    "\n",
    "# interpolate init cable_signal in order to get correct size(same za alignment singal) for polotting\n",
    "cable_signal = np.zeros(buffer_size)\n",
    "cable_signal = interp1d(x, cable_signal, kind='cubic')(x_new)\n",
    "\n",
    "# plotting\n",
    "hover = HoverTool(mode = 'vline', tooltips=[(\"t\", \"@x\"), (\"V\", \"@y\")])\n",
    "tools = \"wheel_zoom,box_zoom,reset,pan\" #crosshair\n",
    "p = figure(plot_height=500, plot_width=900, title=\"signals\", toolbar_location=\"right\", tools=(tools, hover))\n",
    "p.xaxis.axis_label='time [ns]'\n",
    "p.yaxis.axis_label='voltage [V]'\n",
    "p.y_range=Range1d(-0.5, 0.8)\n",
    "r = [p.line(dt*1E9, cable_signal,     line_width=1, line_alpha=0.7, color =\"red\",legend=\"reflected wave\"),\n",
    "     p.line(dt*1E9, alignment_signal, line_width=1, line_alpha=0.7,color =\"blue\",legend=\"incident wave\")]\n",
    "# get and explicit handle to update the next show cell \n",
    "target = show(p,notebook_handle=True)\n",
    "\n",
    "# define widgets labels for results displaying\n",
    "w1 = widgets.Label(value='Cable length:')\n",
    "w2 = widgets.Label(value=\"0.000\")\n",
    "w3 = widgets.Label(value='[m]')\n",
    "\n",
    "w4 = widgets.Label(value='Reflected wave peak:')\n",
    "w5 = widgets.Label(value=\"0.000\")\n",
    "w6 = widgets.Label(value=\"[V] .................@ time\")\n",
    "w7 = widgets.Label(value='0.000')\n",
    "w8 = widgets.Label(value='[ns]')\n",
    "\n",
    "w9  = widgets.Label(value='Incident wave peak:')\n",
    "w10 = widgets.Label(value=\"0.000\")\n",
    "w11 = widgets.Label(value=\"[V] .................@ time\")\n",
    "w12 = widgets.Label(value='0.000')\n",
    "w13 = widgets.Label(value='[ns]')\n",
    "\n",
    "# define layout of label widgets\n",
    "form_item_layout = widgets.Layout(\n",
    "    display='flex',\n",
    "    flex_flow='row',\n",
    "    justify_content='space-between',\n",
    "    margin = '10px',\n",
    ")\n",
    "# define label widgets position and combine them into box widget\n",
    "form_items  = widgets.HBox([w1, w2, w3], layout=form_item_layout)\n",
    "form_items1 = widgets.HBox([w4, w5, w6, w7, w8], layout=form_item_layout)\n",
    "form_items2 = widgets.HBox([w9, w10, w11, w12, w13], layout=form_item_layout)\n",
    "\n",
    "# combine HBox (horizontal) widgets to 3 VBox (verticl) ones and then all Box to one HBox \n",
    "items = [widgets.Label(str(i)) for i in range(4)]\n",
    "form = widgets.HBox([widgets.VBox([form_items , form_items1, form_items2])],\n",
    "    layout=widgets.Layout(\n",
    "        display='flex',\n",
    "        flex_flow='column',\n",
    "        align_items='center',\n",
    "        width='100%',\n",
    "        height='140px',\n",
    "        margin = '0px',\n",
    "        border='2px solid orange',\n",
    "    ))\n",
    "form"
   ]
  },
  {
   "cell_type": "code",
   "execution_count": null,
   "metadata": {
    "collapsed": true
   },
   "outputs": [],
   "source": [
    "#calculating and reploting\n",
    "while True:\n",
    "    cable_signal = get_signal_response (buffer_size)\n",
    "    cable_signal = interp1d(x, cable_signal, kind='cubic')(x_new) \n",
    "    cable_signal = cable_signal-alignment_signal\n",
    "    r[0].data_source.data['y'] = cable_signal\n",
    "    r[1].data_source.data['y'] = alignment_signal\n",
    "    push_notebook(handle=target)\n",
    "    peaks = find_peaks(cable_signal,alignment_signal)\n",
    "    w2.value  = str(calc_cable_length(vf,dt_step))\n",
    "    w5.value  = str(   round(peaks[1],5)     )\n",
    "    w7.value  = str(dt[round(peaks[0]  )]*1E9)\n",
    "    w10.value = str(   round(peaks[3],5)     )\n",
    "    w12.value = str(dt[round(peaks[2]  )]*1E9)\n",
    "    "
   ]
  }
 ],
 "metadata": {
  "kernelspec": {
   "display_name": "Python 3",
   "language": "python",
   "name": "python3"
  },
  "language_info": {
   "codemirror_mode": {
    "name": "ipython",
    "version": 3
   },
   "file_extension": ".py",
   "mimetype": "text/x-python",
   "name": "python",
   "nbconvert_exporter": "python",
   "pygments_lexer": "ipython3",
   "version": "3.5.2"
  }
 },
 "nbformat": 4,
 "nbformat_minor": 2
}
