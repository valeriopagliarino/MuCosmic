{
 "cells": [
  {
   "cell_type": "markdown",
   "metadata": {},
   "source": [
    "# Generate arbitrary signal\n",
    "\n",
    "This example will show how to generate an arbitrary signal with fast analog outputs."
   ]
  },
  {
   "cell_type": "markdown",
   "metadata": {},
   "source": [
    "## Prepare an arbitrary signal\n",
    "\n",
    "Lets start with generation of our arbitrary signal with will be a sum of two sinuses with two different frequencies.\n",
    "\n",
    "The first thing we will do is import matplotlib and numpy so we will be able to visualize the signal before we send it to the generator."
   ]
  },
  {
   "cell_type": "code",
   "execution_count": null,
   "metadata": {
    "collapsed": true
   },
   "outputs": [],
   "source": [
    "import matplotlib\n",
    "import matplotlib.pyplot as plt\n",
    "\n",
    "import numpy as np"
   ]
  },
  {
   "cell_type": "markdown",
   "metadata": {},
   "source": [
    "Now lest generate the signals and plot our outputs.\n",
    "\n",
    "**Note:** we should take care that the generated signal does not go over 1V or under -1V as this is the operating range."
   ]
  },
  {
   "cell_type": "code",
   "execution_count": null,
   "metadata": {
    "scrolled": true
   },
   "outputs": [],
   "source": [
    "x  = np.linspace(0, 6, 10000) # generates x axis in range 0 to 6 with 20000 points\n",
    "y1 = 0.8*np.sin(x) # the first sinus signal with the amplitude 0.8\n",
    "y2 = 0.2*np.sin(21*x) # the second sinus signal with a frequency 20 times higher than the first one and the amplitude of 0.2\n",
    "\n",
    "# plot both signals\n",
    "plt.plot(x, y1, 'r')\n",
    "plt.plot(x, y2, 'b')\n",
    "plt.xlabel('x')\n",
    "plt.ylabel('y')\n",
    "plt.title('base signals')\n",
    "plt.show()\n",
    "\n",
    "\n",
    "sum= y1+y2\n",
    "plt.plot(x, sum, 'c')\n",
    "plt.xlabel('x')\n",
    "plt.ylabel('y')\n",
    "plt.title('sum of boath signals')\n",
    "plt.show()"
   ]
  },
  {
   "cell_type": "markdown",
   "metadata": {},
   "source": [
    "## Transfer data to the STEMlab\n",
    "\n",
    "To start using the STEMlab we need to load the FPGA bitstream and device tree overlay."
   ]
  },
  {
   "cell_type": "code",
   "execution_count": null,
   "metadata": {},
   "outputs": [],
   "source": [
    "from redpitaya.overlay.mercury import mercury as overlay\n",
    "\n",
    "fpga = overlay()"
   ]
  },
  {
   "cell_type": "markdown",
   "metadata": {},
   "source": [
    "The next line loads the *gen* module that allows python to control generator on the STEMlab board."
   ]
  },
  {
   "cell_type": "code",
   "execution_count": null,
   "metadata": {},
   "outputs": [],
   "source": [
    "gen0 = fpga.gen(0)"
   ]
  },
  {
   "cell_type": "markdown",
   "metadata": {},
   "source": [
    "Here we will prepare the waveform that will be stored in the buffer on the FPGA. For predefined waveforms such as sine, square and sawtooth populate the buffer with a signal where one period equals to the length of the buffer."
   ]
  },
  {
   "cell_type": "markdown",
   "metadata": {},
   "source": [
    "Lets populate the buffer with a sine wave that has the amplitude of 1V and offset of 0V."
   ]
  },
  {
   "cell_type": "code",
   "execution_count": null,
   "metadata": {},
   "outputs": [],
   "source": [
    "gen0.amplitude = 1.0\n",
    "gen0.offset    = 0.0\n",
    "gen0.waveform  = sum"
   ]
  },
  {
   "cell_type": "markdown",
   "metadata": {},
   "source": [
    "Set the frequency to the output signal to 1kHz.\n",
    "\n",
    "**NOTE:** To get correct results, waveform must be loaded before the frequency is set."
   ]
  },
  {
   "cell_type": "code",
   "execution_count": null,
   "metadata": {
    "collapsed": true
   },
   "outputs": [],
   "source": [
    "gen0.mode = 'PERIODIC'\n",
    "gen0.frequency = 1000"
   ]
  },
  {
   "cell_type": "markdown",
   "metadata": {},
   "source": [
    "Finally we need to start the generator, enable outputs on the FPGA, and trigger signal generation."
   ]
  },
  {
   "cell_type": "code",
   "execution_count": null,
   "metadata": {},
   "outputs": [],
   "source": [
    "gen0.start()\n",
    "gen0.enable = True\n",
    "gen0.trigger()"
   ]
  },
  {
   "cell_type": "markdown",
   "metadata": {},
   "source": [
    "When you are done disable the outputs by executing command below."
   ]
  },
  {
   "cell_type": "code",
   "execution_count": null,
   "metadata": {
    "collapsed": true
   },
   "outputs": [],
   "source": [
    "gen0.enable = False"
   ]
  }
 ],
 "metadata": {
  "kernelspec": {
   "display_name": "Python 3",
   "language": "python",
   "name": "python3"
  },
  "language_info": {
   "codemirror_mode": {
    "name": "ipython",
    "version": 3
   },
   "file_extension": ".py",
   "mimetype": "text/x-python",
   "name": "python",
   "nbconvert_exporter": "python",
   "pygments_lexer": "ipython3",
   "version": "3.5.2"
  }
 },
 "nbformat": 4,
 "nbformat_minor": 2
}
