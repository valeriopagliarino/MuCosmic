{
 "cells": [
  {
   "cell_type": "markdown",
   "metadata": {},
   "source": [
    "# Oscilloscope synchronized with generator"
   ]
  },
  {
   "cell_type": "markdown",
   "metadata": {},
   "source": [
    "This example shows how to simultaneously generate and acquired with generated a signal.\n",
    "\n",
    "**Note:**  \n",
    "Voltage range of fast analog inputs on the Red Pitaya depends on gain setting that can be set by jumpers. HV setting is for input range to ±20V, while LV sets input range to ±1V. For more information please read the following [chapter](http://redpitaya.readthedocs.io/en/latest/doc/developerGuide/125-14/fastIO.html#analog-inputs). "
   ]
  },
  {
   "cell_type": "markdown",
   "metadata": {},
   "source": [
    "Create a loop back from fast outputs to the fast inputs as shown in the picture below.  \n",
    "Make sure that *gain setting* is set to ±1V (LV).\n",
    "\n",
    "![Fast loop back](img/FastIOLoopBack.png \"Example of the fast loop back.\")"
   ]
  },
  {
   "cell_type": "markdown",
   "metadata": {},
   "source": [
    "Device tree overlay"
   ]
  },
  {
   "cell_type": "code",
   "execution_count": null,
   "metadata": {},
   "outputs": [],
   "source": [
    "from redpitaya.overlay.mercury import mercury as overlay\n",
    "fpga = overlay()\n",
    "\n",
    "gen0 = fpga.gen(0)\n",
    "osc0 = fpga.osc(0, 1.0)"
   ]
  },
  {
   "cell_type": "markdown",
   "metadata": {},
   "source": [
    "Arbitrary signal generator"
   ]
  },
  {
   "cell_type": "code",
   "execution_count": null,
   "metadata": {
    "collapsed": true
   },
   "outputs": [],
   "source": [
    "# buffer waveform and sample timing\n",
    "gen0.waveform = gen0.sin()\n",
    "\n",
    "# burst half the buffer with then idle for quarter buffer, repeat 4 times\n",
    "gen0.mode                   = 'BURST'\n",
    "gen0.burst_data_repetitions = 1\n",
    "gen0.burst_data_length      =  gen0.buffer_size // 2\n",
    "gen0.burst_period_length    = (gen0.buffer_size // 4) * 3\n",
    "gen0.burst_period_number    = 4\n",
    "\n",
    "# set output amplitude, offset and enable it\n",
    "gen0.amplitude     = 1.0\n",
    "gen0.offset        = 0\n",
    "gen0.enable        = True"
   ]
  },
  {
   "cell_type": "markdown",
   "metadata": {},
   "source": [
    "Acquire (oscilloscope)"
   ]
  },
  {
   "cell_type": "code",
   "execution_count": null,
   "metadata": {
    "collapsed": true
   },
   "outputs": [],
   "source": [
    "# data rate decimation \n",
    "osc0.decimation = 4\n",
    "\n",
    "# trigger timing\n",
    "N = osc0.buffer_size\n",
    "osc0.trigger_pre  = 0\n",
    "osc0.trigger_post = N\n",
    "\n",
    "# synchronization signals from \n",
    "osc0.sync_src = fpga.sync_src['gen0']\n",
    "osc0.trig_src = 0"
   ]
  },
  {
   "cell_type": "markdown",
   "metadata": {},
   "source": [
    "Both the generator and oscilloscope are started at the same time."
   ]
  },
  {
   "cell_type": "code",
   "execution_count": null,
   "metadata": {
    "collapsed": true
   },
   "outputs": [],
   "source": [
    "# reset, start and trigger generator to get the first burst\n",
    "gen0.reset()\n",
    "#gen0.start()\n",
    "#gen0.trigger()\n",
    "gen0.start_trigger()\n",
    "while (osc0.status_run()): pass"
   ]
  },
  {
   "cell_type": "code",
   "execution_count": null,
   "metadata": {},
   "outputs": [],
   "source": [
    "import matplotlib.pyplot as plt\n",
    "\n",
    "# show only the part of the buffer requested by pre/post trigger timing\n",
    "data = osc0.data(N)\n",
    "plt.plot(data)\n",
    "plt.show()"
   ]
  }
 ],
 "metadata": {
  "kernelspec": {
   "display_name": "Python 3",
   "language": "python",
   "name": "python3"
  },
  "language_info": {
   "codemirror_mode": {
    "name": "ipython",
    "version": 3
   },
   "file_extension": ".py",
   "mimetype": "text/x-python",
   "name": "python",
   "nbconvert_exporter": "python",
   "pygments_lexer": "ipython3",
   "version": "3.5.2"
  }
 },
 "nbformat": 4,
 "nbformat_minor": 2
}
