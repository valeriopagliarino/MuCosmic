{
 "cells": [
  {
   "cell_type": "markdown",
   "metadata": {},
   "source": [
    "# Logic generator (counter signal)"
   ]
  },
  {
   "cell_type": "markdown",
   "metadata": {},
   "source": [
    "An FPGA overlay must be loaded first."
   ]
  },
  {
   "cell_type": "code",
   "execution_count": null,
   "metadata": {
    "collapsed": true
   },
   "outputs": [],
   "source": [
    "from redpitaya.overlay.mercury import mercury as overlay\n",
    "fpga = overlay()"
   ]
  },
  {
   "cell_type": "markdown",
   "metadata": {},
   "source": [
    "Fpga management is used to configure GPIO pins into logic generator mode, instead of the default PS GPIO mode.\n",
    "\n",
    "Each bit in `gpio_mode` coresponds to one of the 16 GPIO pins.\n",
    "* 0 - PS GPIO mode\n",
    "* 1 - Logic generator mode"
   ]
  },
  {
   "cell_type": "code",
   "execution_count": null,
   "metadata": {
    "collapsed": true
   },
   "outputs": [],
   "source": [
    "mgmt = fpga.mgmt()"
   ]
  },
  {
   "cell_type": "code",
   "execution_count": null,
   "metadata": {
    "collapsed": true
   },
   "outputs": [],
   "source": [
    "mgmt.gpio_mode = 0xffff"
   ]
  },
  {
   "cell_type": "markdown",
   "metadata": {},
   "source": [
    "Compared to the arbitrary signal generator, the logic generator only supports burst mode.\n",
    "The given example creates a binary counter, which can be used for debugging."
   ]
  },
  {
   "cell_type": "code",
   "execution_count": null,
   "metadata": {
    "collapsed": true
   },
   "outputs": [],
   "source": [
    "lg = fpga.lg()"
   ]
  },
  {
   "cell_type": "code",
   "execution_count": null,
   "metadata": {
    "collapsed": true
   },
   "outputs": [],
   "source": [
    "# buffer waveform and sample timing\n",
    "lg.waveform      = range(lg.buffer_size)\n",
    "\n",
    "# repeat the entire buffere indefinitely\n",
    "lg.burst_data_repetitions = 1\n",
    "lg.burst_data_length      = lg.buffer_size\n",
    "lg.burst_period_length    = lg.buffer_size\n",
    "lg.burst_period_number    = 0\n",
    "\n",
    "# set output amplitude, offset and enable it\n",
    "lg.enable   = 0xffff  # all pins have outputs enabled (for both output values 0/1)\n",
    "lg.mask     = 0x0000  # all bits come from ASG, none are constants\n",
    "lg.value    = 0x0000  # the constant pin values are irrelevant since they are not used\n",
    "\n",
    "# reset, start and trigger generator to get the first burst\n",
    "lg.reset()\n",
    "lg.start()\n",
    "lg.trigger()"
   ]
  }
 ],
 "metadata": {
  "kernelspec": {
   "display_name": "Python 3",
   "language": "python",
   "name": "python3"
  },
  "language_info": {
   "codemirror_mode": {
    "name": "ipython",
    "version": 3
   },
   "file_extension": ".py",
   "mimetype": "text/x-python",
   "name": "python",
   "nbconvert_exporter": "python",
   "pygments_lexer": "ipython3",
   "version": "3.5.2"
  }
 },
 "nbformat": 4,
 "nbformat_minor": 2
}
