{
 "cells": [
  {
   "cell_type": "markdown",
   "metadata": {},
   "source": [
    "## Setup\n",
    "- Red Pitaya STEMlab board + sensor shield\n",
    "- Grove temperature sensor"
   ]
  },
  {
   "cell_type": "markdown",
   "metadata": {},
   "source": [
    "## Temperature sensor\n",
    "The Grove - Temperature Sensor uses a Thermistor to detect the ambient temperature. The resistance of a thermistor will increase when the ambient temperature decreases. It's this characteristic that we use to calculate the ambient temperature. The detectable range of this sensor is -40 - 125ºC, and the accuracy is ±1.5ºC\n",
    "Datasheet: [NCP18WF104F03RC](http://wiki.seeed.cc/Grove-Temperature_Sensor_V1.2/) \n",
    "![temp_sensor](img/temp_sensor.jpg)\n",
    "![temp_sensor_sch](img/temp_sensor_sch.png)"
   ]
  },
  {
   "cell_type": "code",
   "execution_count": null,
   "metadata": {},
   "outputs": [],
   "source": [
    "from redpitaya.overlay.mercury import mercury as FPGA\n",
    "overlay = FPGA()\n",
    "ANALOG = FPGA.analog_in(0) # define which pin will be used for temperature sensor"
   ]
  },
  {
   "cell_type": "code",
   "execution_count": null,
   "metadata": {},
   "outputs": [],
   "source": [
    "# Temperature vs. NTC resistance \n",
    "import math\n",
    "import matplotlib.pyplot as plt\n",
    "import time\n",
    "from redpitaya.overlay.mercury import mercury as FPGA\n",
    "overlay = FPGA()\n",
    "ANALOG = FPGA.analog_in(0) # define which pin will be used for temperature sensor\n",
    "\n",
    "def res_to_temp(Rntc):\n",
    "    B = 4275; # B value of the thermistor\n",
    "    return (1.0/(math.log10(Rntc/100000.0)/B+1/298.15)-273.15) #convert to temperature via datasheet \n",
    "temp = [ res_to_temp(R) for R in range(10000,300000,100)]\n",
    "plt.plot(range(10000,300000,100), temp)\n",
    "plt.xlabel('Rntc[ohm]')\n",
    "plt.ylabel('Temperature[*C]')\n",
    "plt.show()"
   ]
  },
  {
   "cell_type": "markdown",
   "metadata": {},
   "source": [
    "## Reading temperature sensor\n",
    "\n",
    "To read the temperature we need to read the voltage value and convert it to temperature."
   ]
  },
  {
   "cell_type": "code",
   "execution_count": null,
   "metadata": {},
   "outputs": [],
   "source": [
    "def temp():\n",
    "    Va0=ANALOG.read() # read voltage of sensor\n",
    "    R0 = 100000;       # R0 = 100k\n",
    "    Rntc = 3.3/(Va0)-1.0 \n",
    "    Rntc = 100000.0*Rntc # thermistor resistance\n",
    "    return (res_to_temp(Rntc),Va0);\n",
    "r=temp()\n",
    "\n",
    "print(\"voltage={:.2f}V temp {:.2f}℃\".format(r[1],r[0]) )"
   ]
  }
 ],
 "metadata": {
  "kernelspec": {
   "display_name": "Python 3",
   "language": "python",
   "name": "python3"
  },
  "language_info": {
   "codemirror_mode": {
    "name": "ipython",
    "version": 3
   },
   "file_extension": ".py",
   "mimetype": "text/x-python",
   "name": "python",
   "nbconvert_exporter": "python",
   "pygments_lexer": "ipython3",
   "version": "3.5.2"
  }
 },
 "nbformat": 4,
 "nbformat_minor": 2
}
