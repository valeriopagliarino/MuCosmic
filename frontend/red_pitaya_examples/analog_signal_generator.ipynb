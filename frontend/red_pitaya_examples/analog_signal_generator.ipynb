{
 "cells": [
  {
   "cell_type": "markdown",
   "metadata": {},
   "source": [
    "This notebook is part of the analog [analog input](analog_input.ipynb) example and is not intended to be used as stand alone example.  \n",
    "To learn about analog outputs please go to [analog outputs](analog_outputs.ipynb) example."
   ]
  },
  {
   "cell_type": "markdown",
   "metadata": {},
   "source": [
    "## Overlay\n",
    "\n",
    "We sill start with loading of the FPGA bitstream and the device tree overlay."
   ]
  },
  {
   "cell_type": "code",
   "execution_count": null,
   "metadata": {
    "collapsed": true,
    "scrolled": true
   },
   "outputs": [],
   "source": [
    "from redpitaya.overlay.mercury import mercury as FPGA\n",
    "overlay = FPGA()"
   ]
  },
  {
   "cell_type": "markdown",
   "metadata": {},
   "source": [
    "We will be making measurements every 10 miliseconds \n",
    "hence we need to generate new data samples with the same rate. To be able to delay data generation we will need to use time module.  \n",
    "We will also need to import numpy to be able to use sine function.\n",
    "\n",
    "The next line imports time and numpy modules."
   ]
  },
  {
   "cell_type": "code",
   "execution_count": null,
   "metadata": {
    "collapsed": true
   },
   "outputs": [],
   "source": [
    "import time\n",
    "import numpy as np"
   ]
  },
  {
   "cell_type": "markdown",
   "metadata": {},
   "source": [
    "The next line loads the *analog_out* module that allows python to control PDMs on the STEAMlab board."
   ]
  },
  {
   "cell_type": "code",
   "execution_count": null,
   "metadata": {
    "collapsed": true
   },
   "outputs": [],
   "source": [
    "pdm = FPGA.analog_out()"
   ]
  },
  {
   "cell_type": "markdown",
   "metadata": {},
   "source": [
    "Here we will configure the number of channels (4) and define the amplitudes. Note that PDMs only accept values from 0 to 1.8V, so we have to offset our signal. We will be offsetting our signals to $\\frac{1.8V} { 2 } = 0.9V $.\n",
    "\n",
    "Then we start an infinite loop that will generate sinuses on the analog outputs.   \n",
    "To stop execution:\n",
    "- press the (∎) button above or \n",
    "- click outside to the left of the cell but inside of the green rectangle, so it turns green, which will invoke jupyters command mode and press I key twice."
   ]
  },
  {
   "cell_type": "code",
   "execution_count": null,
   "metadata": {
    "collapsed": true
   },
   "outputs": [],
   "source": [
    "chn = 4\n",
    "amp = (0.25, 0.35, 0.4, 0.8)\n",
    "\n",
    "while True:\n",
    "    for i in range(40):\n",
    "        for ch in range(chn):\n",
    "            pdm.write(ch , 0.9 + amp[ch] * np.sin(i * np.pi / 20) )\n",
    "            time.sleep(0.1)"
   ]
  }
 ],
 "metadata": {
  "kernelspec": {
   "display_name": "Python 3",
   "language": "python",
   "name": "python3"
  },
  "language_info": {
   "codemirror_mode": {
    "name": "ipython",
    "version": 3
   },
   "file_extension": ".py",
   "mimetype": "text/x-python",
   "name": "python",
   "nbconvert_exporter": "python",
   "pygments_lexer": "ipython3",
   "version": "3.5.2"
  }
 },
 "nbformat": 4,
 "nbformat_minor": 2
}
