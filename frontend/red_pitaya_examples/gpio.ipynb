{
 "cells": [
  {
   "cell_type": "markdown",
   "metadata": {},
   "source": [
    "# GPIO\n",
    "\n",
    "This example shows how to control GPIOs on the STEMlab board. Thre are 16 GPIOs arranged in to two columns, as shown on the picture bellow, marked DIO**n**_**x**. Where **n** denotes pin number and **x** denotes pin column.\n",
    "\n",
    "![alt text](img/Extension_connector.png \"STEMlab extention connector.\")"
   ]
  },
  {
   "cell_type": "markdown",
   "metadata": {},
   "source": [
    "## Overlay\n",
    "\n",
    "As with the [LED](led.ipynb) example the first thing we will do is to load the FPGA bitstream and the device tree overlay."
   ]
  },
  {
   "cell_type": "code",
   "execution_count": null,
   "metadata": {
    "collapsed": true
   },
   "outputs": [],
   "source": [
    "from redpitaya.overlay.mercury import mercury as FPGA\n",
    "overlay = FPGA()"
   ]
  },
  {
   "cell_type": "markdown",
   "metadata": {},
   "source": [
    "# GPIO\n",
    "\n",
    "GPIO access is implemented through [`sysfs`](https://www.kernel.org/doc/Documentation/gpio/sysfs.txt) Linux kernel interface\n",
    "provided by the [GPIO subsystem](https://www.kernel.org/doc/Documentation/gpio/gpio.txt).\n",
    "\n",
    "Our driver is just a simple wrapper around [`python-periphery 1.1.0`](https://github.com/vsergeev/python-periphery).\n",
    "\n",
    "A new [user space ABI for GPIO](https://git.kernel.org/cgit/linux/kernel/git/linusw/linux-gpio.git/tree/include/uapi/linux/gpio.h?h=for-next)\n",
    "is coming in kernel v4.8, ioctl will be used instead of ``sysfs``.\n",
    "The new driver will allow for setting multiple GPIO signals simultaneously."
   ]
  },
  {
   "cell_type": "markdown",
   "metadata": {},
   "source": [
    "To import the GPIO module:"
   ]
  },
  {
   "cell_type": "code",
   "execution_count": null,
   "metadata": {
    "collapsed": true
   },
   "outputs": [],
   "source": [
    "GPIO = FPGA.gpio"
   ]
  },
  {
   "cell_type": "markdown",
   "metadata": {},
   "source": [
    "## Setup up a channel\n",
    "\n",
    "You need to set up every channel you are using as an input or an output. To configure a channel as an input, you need to specify which column it is in and which pin it is:\n",
    "\n",
    "gpio_i = GPIO('p', pin, \"in\")\n",
    "\n",
    "To set up a channel as an output, you need to specify which column it is in and which pin it is:\n",
    "\n",
    "gpio_o = GPIO('p', pin, \"out\")"
   ]
  },
  {
   "cell_type": "markdown",
   "metadata": {},
   "source": [
    "## Input\n",
    "\n",
    "To read the value of a GPIO pin:\n",
    "\n",
    "gpio_i.read()\n",
    "\n",
    "This will return either *True* or *False*."
   ]
  },
  {
   "cell_type": "markdown",
   "metadata": {},
   "source": [
    "### Example read from pin 1 on the 'n' column"
   ]
  },
  {
   "cell_type": "code",
   "execution_count": null,
   "metadata": {
    "collapsed": true
   },
   "outputs": [],
   "source": [
    "gpio_i = GPIO('n', 1, \"in\")\n",
    "gpio_i.read()"
   ]
  },
  {
   "cell_type": "markdown",
   "metadata": {},
   "source": [
    "## Output\n",
    "\n",
    "To set the output state of a GPIO pin:\n",
    "\n",
    "gpio_o.write(State)\n",
    "\n",
    "State can be *True* or *False*."
   ]
  },
  {
   "cell_type": "markdown",
   "metadata": {},
   "source": [
    "### Example write to pin 0 on the 'p' column"
   ]
  },
  {
   "cell_type": "code",
   "execution_count": null,
   "metadata": {
    "collapsed": true
   },
   "outputs": [],
   "source": [
    "gpio_o = GPIO('p', 0, \"out\")\n",
    "gpio_o.write(True)"
   ]
  }
 ],
 "metadata": {
  "kernelspec": {
   "display_name": "Python 3",
   "language": "python",
   "name": "python3"
  },
  "language_info": {
   "codemirror_mode": {
    "name": "ipython",
    "version": 3
   },
   "file_extension": ".py",
   "mimetype": "text/x-python",
   "name": "python",
   "nbconvert_exporter": "python",
   "pygments_lexer": "ipython3",
   "version": "3.5.2"
  }
 },
 "nbformat": 4,
 "nbformat_minor": 2
}
