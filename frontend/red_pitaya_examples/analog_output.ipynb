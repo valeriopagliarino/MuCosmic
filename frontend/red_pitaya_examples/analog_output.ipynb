{
 "cells": [
  {
   "cell_type": "markdown",
   "metadata": {},
   "source": [
    "# Analog output \n",
    "\n",
    "Slow analog outputs provide a convenient way to control output voltage from 0 to 1.8 V.\n",
    "\n",
    "There are 4 analog outputs on the E2 connector, depicted on the picture below.\n",
    "\n",
    "Each output channel contains a [Pulse-density modulator](https://en.wikipedia.org/wiki/Pulse-density_modulation) (PDM).\n",
    "\n",
    "\n",
    "\n",
    "![alt text](img/Extension_connector.png \"STEMlab extention connector.\")"
   ]
  },
  {
   "cell_type": "markdown",
   "metadata": {},
   "source": [
    "## Overlay\n",
    "\n",
    "As with the [LED](led.ipynb) example the first thing we will do is to load the FPGA bitstream and the device tree overlay."
   ]
  },
  {
   "cell_type": "code",
   "execution_count": null,
   "metadata": {
    "collapsed": true
   },
   "outputs": [],
   "source": [
    "from redpitaya.overlay.mercury import mercury as FPGA\n",
    "overlay = FPGA()"
   ]
  },
  {
   "cell_type": "markdown",
   "metadata": {},
   "source": [
    "The next line loads the *analog_out* module that allows python to control PDMs on the STEAMlab board."
   ]
  },
  {
   "cell_type": "code",
   "execution_count": null,
   "metadata": {
    "collapsed": true
   },
   "outputs": [],
   "source": [
    "pdm = FPGA.analog_out()"
   ]
  },
  {
   "cell_type": "markdown",
   "metadata": {},
   "source": [
    "Lets set the value on pin Analog output 3 to 0.5 V."
   ]
  },
  {
   "cell_type": "code",
   "execution_count": null,
   "metadata": {
    "collapsed": true
   },
   "outputs": [],
   "source": [
    "pdm.write(3, 0.5)"
   ]
  }
 ],
 "metadata": {
  "kernelspec": {
   "display_name": "Python 3",
   "language": "python",
   "name": "python3"
  },
  "language_info": {
   "codemirror_mode": {
    "name": "ipython",
    "version": 3
   },
   "file_extension": ".py",
   "mimetype": "text/x-python",
   "name": "python",
   "nbconvert_exporter": "python",
   "pygments_lexer": "ipython3",
   "version": "3.5.2"
  }
 },
 "nbformat": 4,
 "nbformat_minor": 2
}
