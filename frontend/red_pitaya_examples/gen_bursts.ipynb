{
 "cells": [
  {
   "cell_type": "markdown",
   "metadata": {},
   "source": [
    "# Generator bursts"
   ]
  },
  {
   "cell_type": "markdown",
   "metadata": {},
   "source": [
    "Device tree overlay"
   ]
  },
  {
   "cell_type": "code",
   "execution_count": null,
   "metadata": {
    "collapsed": true
   },
   "outputs": [],
   "source": [
    "from redpitaya.overlay.mercury import mercury as overlay\n",
    "fpga = overlay()\n",
    "\n",
    "# create generator instance\n",
    "gen0 = fpga.gen(0)"
   ]
  },
  {
   "cell_type": "markdown",
   "metadata": {},
   "source": [
    "When generating a periodic signal it makes sense to be able to set the frequency directly. While this is still possible in burst mode, it is not the most common approach.\n",
    "\n",
    "For bursts it is more common to read a table at the same data rate as the DAC sample rate. So attribute `burst_data_repetitions` can be used, to control the data in terms of samples (clock periods) instead of time.\n",
    "\n",
    "Attribute `burst_period_length` defines the length of a burst period in samples. Inside this period `burst_data_length` specifies how many samples are read from the buffer. The remainder `burst_period_length - burst_data_length` is filled with the value of the last data sample. The number of periods in the burst is defined with `burst_period_number`.\n",
    "\n",
    "Generator mode should be set to `'BURST'`. In case `burst_period_number` is set to `0`, the burst period repeats indefinitely.\n",
    "\n",
    "For symplicity this example does not create a custom waveform, instead part of a sinus wave is used."
   ]
  },
  {
   "cell_type": "code",
   "execution_count": null,
   "metadata": {
    "collapsed": true
   },
   "outputs": [],
   "source": [
    "# buffer waveform and sample timing\n",
    "gen0.waveform      = gen0.sin()\n",
    "\n",
    "# burst half the buffer with then idle for quarter buffer, repeat 4 times\n",
    "gen0.mode                   = 'BURST'\n",
    "gen0.burst_data_repetitions = 1\n",
    "gen0.burst_data_length      =  gen0.buffer_size // 2\n",
    "gen0.burst_period_length    = (gen0.buffer_size // 4) * 3\n",
    "gen0.burst_period_number    = 4\n",
    "\n",
    "# set output amplitude, offset and enable it\n",
    "gen0.amplitude     = 1.0\n",
    "gen0.offset        = 0\n",
    "gen0.enable        = True\n",
    "\n",
    "# reset, start and trigger generator to get the first burst\n",
    "gen0.reset()\n",
    "gen0.start()\n",
    "gen0.trigger()"
   ]
  },
  {
   "cell_type": "markdown",
   "metadata": {},
   "source": [
    "To repeat a burst execute the generator trigger again."
   ]
  },
  {
   "cell_type": "code",
   "execution_count": null,
   "metadata": {
    "collapsed": true
   },
   "outputs": [],
   "source": [
    "gen0.trigger()"
   ]
  }
 ],
 "metadata": {
  "kernelspec": {
   "display_name": "Python 3",
   "language": "python",
   "name": "python3"
  },
  "language_info": {
   "codemirror_mode": {
    "name": "ipython",
    "version": 3
   },
   "file_extension": ".py",
   "mimetype": "text/x-python",
   "name": "python",
   "nbconvert_exporter": "python",
   "pygments_lexer": "ipython3",
   "version": "3.5.2"
  }
 },
 "nbformat": 4,
 "nbformat_minor": 2
}
