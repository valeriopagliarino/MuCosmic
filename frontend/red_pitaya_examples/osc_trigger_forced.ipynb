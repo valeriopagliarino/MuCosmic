{
 "cells": [
  {
   "cell_type": "markdown",
   "metadata": {},
   "source": [
    "# Oscilloscope forced trigger"
   ]
  },
  {
   "cell_type": "markdown",
   "metadata": {},
   "source": [
    "This example shows how a signal can be captured using a forced trigger.\n",
    "\n",
    "**Note:**  \n",
    "Voltage range of fast analog inputs on the Red Pitaya depends on gain setting that can be set by jumpers. HV setting is for input range to ±20V, while LV sets input range to ±1V. For more information please read the following [chapter](http://redpitaya.readthedocs.io/en/latest/doc/developerGuide/125-14/fastIO.html#analog-inputs). "
   ]
  },
  {
   "cell_type": "markdown",
   "metadata": {},
   "source": [
    "Create a loop back from fast outputs to the fast inputs as shown in the picture below.  \n",
    "Make sure that *gain setting* is set to ±1V (LV).\n",
    "\n",
    "![Fast loop back](img/FastIOLoopBack.png \"Example of the fast loop back.\")\n",
    "\n",
    "Now start generation of the signal from the [generator notebook](gen_sync_two_channel.ipynb). Execute all cells except the last one which will disable the outputs. It is recommended that you run it when you finish with this example."
   ]
  },
  {
   "cell_type": "code",
   "execution_count": null,
   "metadata": {
    "scrolled": false
   },
   "outputs": [],
   "source": [
    "from redpitaya.overlay.mercury import mercury as overlay\n",
    "fpga = overlay()"
   ]
  },
  {
   "cell_type": "markdown",
   "metadata": {},
   "source": [
    "Make an instance of the oscilloscope, the first argument is the channel index in range [0,1]. The second argument is the voltage range in volts, should be either 1.0 (default if unspecified) or 20.0."
   ]
  },
  {
   "cell_type": "code",
   "execution_count": null,
   "metadata": {
    "collapsed": true
   },
   "outputs": [],
   "source": [
    "osc0 = fpga.osc(0, 1.0)"
   ]
  },
  {
   "cell_type": "markdown",
   "metadata": {},
   "source": [
    "User should specify:\n",
    "1. Sample rate decimation is an integer in range [1, 2\\*\\*17] = [1, 131072].\n",
    "2. Number of samples stored before and after trigger, for a forced trigger only post trigger samples are enough.\n",
    "3. Input level trigger source should (depending on the test purpose) be disabled (it is enabled by default)"
   ]
  },
  {
   "cell_type": "code",
   "execution_count": null,
   "metadata": {
    "collapsed": true
   },
   "outputs": [],
   "source": [
    "# data rate decimation \n",
    "osc0.decimation = 1\n",
    "\n",
    "# trigger timing [sample periods]\n",
    "N = osc0.buffer_size\n",
    "osc0.trigger_pre  = 0\n",
    "osc0.trigger_post = N\n",
    "\n",
    "# disable hardware trigger sources\n",
    "osc0.trig_src = 0"
   ]
  },
  {
   "cell_type": "markdown",
   "metadata": {},
   "source": [
    "The oscilloscope should be reset, started, and a software trigger should be issued.\n",
    "A loop is checking if the desired number of data samples was already stored in the buffer.\n",
    "\n",
    "The same number of samples as the sum of pre/post trigger delays should be read from the buffer.\n",
    "The data read is aligned to the last sample, which will be always present as the last sample in the returned array."
   ]
  },
  {
   "cell_type": "code",
   "execution_count": null,
   "metadata": {},
   "outputs": [],
   "source": [
    "# synchronization and trigger sources are the default,\n",
    "# which is the module itself\n",
    "osc0.reset()\n",
    "osc0.start()\n",
    "osc0.trigger()\n",
    "# wait for data\n",
    "while (osc0.status_run()): pass\n",
    "print ('triggered')\n",
    "\n",
    "import matplotlib.pyplot as plt\n",
    "\n",
    "# show only the part of the buffer requested by pre/post trigger timing\n",
    "data = osc0.data(N)\n",
    "plt.plot(data)\n",
    "plt.show()"
   ]
  }
 ],
 "metadata": {
  "kernelspec": {
   "display_name": "Python 3",
   "language": "python",
   "name": "python3"
  },
  "language_info": {
   "codemirror_mode": {
    "name": "ipython",
    "version": 3
   },
   "file_extension": ".py",
   "mimetype": "text/x-python",
   "name": "python",
   "nbconvert_exporter": "python",
   "pygments_lexer": "ipython3",
   "version": "3.5.2"
  }
 },
 "nbformat": 4,
 "nbformat_minor": 2
}
