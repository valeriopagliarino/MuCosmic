{
 "cells": [
  {
   "attachments": {},
   "cell_type": "markdown",
   "metadata": {},
   "source": [
    "# Software MCA"
   ]
  },
  {
   "cell_type": "markdown",
   "metadata": {},
   "source": [
    "### StemLab 10 bit board (DAQ) configuration:\n",
    "- Both input channels are configured with the jumper in LV position (high sensitivity, $\\pm$ 1 V)\n",
    "- Visit Red Pitaya IP (dashboard) > Development > Python Programming"
   ]
  },
  {
   "attachments": {},
   "cell_type": "markdown",
   "metadata": {},
   "source": [
    "-----------------------------\n",
    "\n",
    "Additional Multi-Channel Analyzer implemented in software, for specific ionization measurements. Please note that the original setup with organic plastic scintillator is very limited for this purposes because of the reduced linearity of these detectors. This functionality is more useful with radioactive sources (gamma) since the cosmic muons are mainly MIPs (Minimum Ionization Particles) because of their high energy. \n",
    "\n",
    "- It can be still interesting to perform some signal spectroscopy with a Multi-Channel analyzer for some reasons, for example, for characterizing the energy distribution of the \n",
    "background noise due to natural environmental radioactivity \n",
    "\n",
    "-----------------------------"
   ]
  },
  {
   "cell_type": "code",
   "execution_count": null,
   "metadata": {},
   "outputs": [],
   "source": [
    "import scipy as sp\n",
    "import numpy as np\n",
    "import matplotlib.pyplot as plt\n",
    "import time\n",
    "import pickle"
   ]
  },
  {
   "cell_type": "markdown",
   "metadata": {},
   "source": [
    "### Initial configuration"
   ]
  },
  {
   "cell_type": "code",
   "execution_count": null,
   "metadata": {},
   "outputs": [],
   "source": [
    "# Import the FPGA firmware Overlay\n",
    "from redpitaya.overlay.mercury import mercury as overlay\n",
    "fpga = overlay()\n",
    "\n",
    "# Import LEDs\n",
    "LED = FPGA.led\n",
    "aq_started = LED(1, 0)\n",
    "trig_armed = LED(2, 0)\n",
    "event      = LED(3, 0)\n",
    "\n",
    "# Import GPIOs for external event counter / slow trigger\n",
    "GPIO = FPGA.gpio\n",
    "gpio_o = GPIO('p', 0, \"out\")\n",
    "\n",
    "# Define the FPGA oscilloscope objects\n",
    "osc = [fpga.osc(ch, 1.0) for ch in range(2)]\n",
    "\n",
    "# Set data rate decimation\n",
    "for ch in osc:\n",
    "    # data rate decimation = 1, keep 125 MHz sampling frequency\n",
    "    ch.decimation = 1\n",
    "\n",
    "    # trigger timing [sample periods]\n",
    "    N = ch.buffer_size\n",
    "    ch.trigger_pre  = 0\n",
    "    ch.trigger_post = N\n",
    "    \n",
    "    # osc[0] is controlling both channels\n",
    "    ch.sync_src = fpga.sync_src[\"osc0\"]\n",
    "\n",
    "# Setup trigger on scintillator signals\n",
    "osc[0].level = [0.23, 0.2]\n",
    "osc[0].edge  = 'pos'\n",
    "osc[1].level = [0.23, 0.2]\n",
    "osc[1].edge  = 'pos'\n",
    "\n",
    "for ch in osc:\n",
    "    ch.trig_src = fpga.trig_src[\"osc1\"]"
   ]
  },
  {
   "attachments": {},
   "cell_type": "markdown",
   "metadata": {},
   "source": [
    "### Software Multi-Channel-Analyzer with digital signal integration"
   ]
  },
  {
   "cell_type": "code",
   "execution_count": null,
   "metadata": {},
   "outputs": [],
   "source": []
  },
  {
   "cell_type": "markdown",
   "metadata": {},
   "source": [
    "### Data acquisition RUN"
   ]
  },
  {
   "cell_type": "code",
   "execution_count": null,
   "metadata": {},
   "outputs": [],
   "source": [
    "aq_started.write(1)\n",
    "\n",
    "MAX_EVEN_NUM = 1e10\n",
    "MAX_RAM_BUFF = 100\n",
    "counter = 0\n",
    "data_buf = []\n",
    "\n",
    "while(counter < MAX_EVENT_NUM):\n",
    "    counter = counter + 1\n",
    "    # reset and start\n",
    "    osc[0].reset()\n",
    "    osc[0].start()\n",
    "    # wait for trigger\n",
    "    trig_armed.write(1)\n",
    "    # Reset the slow GPIO output for external event counting\n",
    "    gpio_o.write(False)\n",
    "    while (osc[0].status_run()): pass\n",
    "    # \"fast\" (code execution time) pulse on the slow GPIO output for slow trigger and external event counting with scaler\n",
    "    gpio_o.write(True)\n",
    "    trig_armed.write(0)\n",
    "    timestamp = time.time()\n",
    "    print('Recorded event at ',  , \" timestamp = \" ,str(timestamp))\n",
    "    data0 = osc[0].data(N)\n",
    "    data1 = osc[1].data(N)\n",
    "    #Single event formatting as a dictionary\n",
    "    event = {'event_label'  : 'SCINTILLATOR_EVENT',\n",
    "             'timestamp'    :  str(timestamp),\n",
    "             'data0'        :  data0,\n",
    "             'data1'        :  data1\n",
    "            }\n",
    "    # Append the current event to the data buffer\n",
    "    data_buf.append(event)\n",
    "\n",
    "    # Toggle event LED\n",
    "    if (counter % 2 == 0):\n",
    "        event.write(0)\n",
    "    else:\n",
    "        event.write(1)\n",
    "\n",
    "    # Write events to disk (pickle binary format) then cleanup the RAM buffer\n",
    "    if (counter > MAX_RAM_BUFF):\n",
    "        fname = 'Run_' + str(time.time())\n",
    "        with open('{}.p'.format(fname), 'wb') as handle:\n",
    "            pickle.dump(data_buf, handle, protocol=pickle.HIGHEST_PROTOCOL)\n",
    "        data_buf.clear()\n",
    "\n",
    "# Run closed\n",
    "aq_started.write(0)"
   ]
  },
  {
   "attachments": {},
   "cell_type": "markdown",
   "metadata": {},
   "source": [
    "### Spectroscopy viewer"
   ]
  },
  {
   "cell_type": "markdown",
   "metadata": {},
   "source": []
  }
 ],
 "metadata": {
  "kernelspec": {
   "display_name": "Python 3 (ipykernel)",
   "language": "python",
   "name": "python3"
  },
  "language_info": {
   "codemirror_mode": {
    "name": "ipython",
    "version": 3
   },
   "file_extension": ".py",
   "mimetype": "text/x-python",
   "name": "python",
   "nbconvert_exporter": "python",
   "pygments_lexer": "ipython3",
   "version": "3.10.6"
  }
 },
 "nbformat": 4,
 "nbformat_minor": 2
}
